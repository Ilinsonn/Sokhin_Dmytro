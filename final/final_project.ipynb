{
 "cells": [
  {
   "cell_type": "markdown",
   "id": "3cbd3c6d-f76b-45fd-aec4-a69a0c8ac98a",
   "metadata": {},
   "source": [
    "#### 21.11.23, &copy; Dmytro Sokhin KI-21-1, 2023"
   ]
  },
  {
   "cell_type": "markdown",
   "id": "6d137721-a913-433b-9d00-7f6eeb3610e4",
   "metadata": {},
   "source": [
    "# Фінальний проєкт І"
   ]
  },
  {
   "cell_type": "markdown",
   "id": "70539753-6291-4871-bb6c-ea69085545f3",
   "metadata": {},
   "source": [
    "__Мета:__ досконалення навичок у використанні Python для розв’язання складних завдань."
   ]
  },
  {
   "cell_type": "markdown",
   "id": "2f30c399-2235-47e7-8469-a112498b0e3b",
   "metadata": {},
   "source": [
    "# Хід роботи"
   ]
  },
  {
   "cell_type": "markdown",
   "id": "0081fc0f-e8d9-4b38-845a-c9c29aeeeb93",
   "metadata": {},
   "source": [
    "1.Написати просту програму, яка вдає, ніби грає з користувачем у хрестики-нуліки."
   ]
  },
  {
   "cell_type": "code",
   "execution_count": 2,
   "id": "32d6d3d2-0f71-47de-9f8d-2991921be3d6",
   "metadata": {},
   "outputs": [
    {
     "name": "stdout",
     "output_type": "stream",
     "text": [
      "1 | 2 | 3\n",
      "-----------------------------\n",
      "4 | \u001b[94mX\u001b[0m | 6\n",
      "-----------------------------\n",
      "7 | 8 | 9\n",
      "-----------------------------\n",
      "Хід комп'ютера:\n",
      "1 | 2 | 3\n",
      "-----------------------------\n",
      "4 | \u001b[94mX\u001b[0m | 6\n",
      "-----------------------------\n",
      "\u001b[94mX\u001b[0m | 8 | 9\n",
      "-----------------------------\n",
      "Ваш хід:\n"
     ]
    },
    {
     "name": "stdin",
     "output_type": "stream",
     "text": [
      "Ваш хід (введіть номер вільного квадрата від 1 до 9):  3\n"
     ]
    },
    {
     "name": "stdout",
     "output_type": "stream",
     "text": [
      "1 | 2 | \u001b[91mO\u001b[0m\n",
      "-----------------------------\n",
      "4 | \u001b[94mX\u001b[0m | 6\n",
      "-----------------------------\n",
      "\u001b[94mX\u001b[0m | 8 | 9\n",
      "-----------------------------\n",
      "Хід комп'ютера:\n",
      "1 | 2 | \u001b[91mO\u001b[0m\n",
      "-----------------------------\n",
      "4 | \u001b[94mX\u001b[0m | 6\n",
      "-----------------------------\n",
      "\u001b[94mX\u001b[0m | 8 | \u001b[94mX\u001b[0m\n",
      "-----------------------------\n",
      "Ваш хід:\n"
     ]
    },
    {
     "name": "stdin",
     "output_type": "stream",
     "text": [
      "Ваш хід (введіть номер вільного квадрата від 1 до 9):  1\n"
     ]
    },
    {
     "name": "stdout",
     "output_type": "stream",
     "text": [
      "\u001b[91mO\u001b[0m | 2 | \u001b[91mO\u001b[0m\n",
      "-----------------------------\n",
      "4 | \u001b[94mX\u001b[0m | 6\n",
      "-----------------------------\n",
      "\u001b[94mX\u001b[0m | 8 | \u001b[94mX\u001b[0m\n",
      "-----------------------------\n",
      "Хід комп'ютера:\n",
      "\u001b[91mO\u001b[0m | 2 | \u001b[91mO\u001b[0m\n",
      "-----------------------------\n",
      "4 | \u001b[94mX\u001b[0m | 6\n",
      "-----------------------------\n",
      "\u001b[94mX\u001b[0m | \u001b[94mX\u001b[0m | \u001b[94mX\u001b[0m\n",
      "-----------------------------\n",
      "Комп'ютер виграв!\n"
     ]
    }
   ],
   "source": [
    "from random import randrange\n",
    "\n",
    "# Кольори\n",
    "BLUE = '\\033[94m'\n",
    "RED = '\\033[91m'\n",
    "RESET = '\\033[0m'\n",
    "\n",
    "def display_board(board):\n",
    "    for row in board:\n",
    "        formatted_row = [BLUE + cell + RESET if cell == 'X' else RED + cell + RESET if cell == 'O' else cell for cell in row]\n",
    "        print(\" | \".join(formatted_row))\n",
    "        print(\"-\" * 29)\n",
    "\n",
    "def check_win(board, player):\n",
    "    # Перевірка по горизонталі та вертикалі\n",
    "    for i in range(3):\n",
    "        if all(board[i][j] == player for j in range(3)) or all(board[j][i] == player for j in range(3)):\n",
    "            return True\n",
    "\n",
    "    # Перевірка по діагоналі\n",
    "    if all(board[i][i] == player for i in range(3)) or all(board[i][2 - i] == player for i in range(3)):\n",
    "        return True\n",
    "\n",
    "    return False\n",
    "\n",
    "def is_board_full(board):\n",
    "    return all(all(cell.isdigit() for cell in row) for row in board)\n",
    "\n",
    "def user_move(board):\n",
    "    while True:\n",
    "        try:\n",
    "            move = int(input(\"Ваш хід (введіть номер вільного квадрата від 1 до 9): \"))\n",
    "            if 1 <= move <= 9 and board[(move - 1) // 3][(move - 1) % 3].isdigit():\n",
    "                return (move - 1) // 3, (move - 1) % 3\n",
    "            else:\n",
    "                print(\"Неправильний ввід. Будь ласка, введіть номер вільного квадрата.\")\n",
    "        except ValueError:\n",
    "            print(\"Неправильний ввід. Будь ласка, введіть ціле число.\")\n",
    "\n",
    "def computer_move(board):\n",
    "    while True:\n",
    "        row = randrange(3)\n",
    "        col = randrange(3)\n",
    "        if board[row][col].isdigit():\n",
    "            return row, col\n",
    "\n",
    "def main():\n",
    "    board = [['1', '2', '3'],\n",
    "             ['4', 'X', '6'],\n",
    "             ['7', '8', '9']]\n",
    "\n",
    "    display_board(board)\n",
    "\n",
    "    while True:\n",
    "        # Хід комп'ютера\n",
    "        print(\"Хід комп'ютера:\")\n",
    "        comp_row, comp_col = computer_move(board)\n",
    "        board[comp_row][comp_col] = 'X'\n",
    "        display_board(board)\n",
    "\n",
    "        # Перевірка виграшу комп'ютера\n",
    "        if check_win(board, 'X'):\n",
    "            print(\"Комп'ютер виграв!\")\n",
    "            break\n",
    "\n",
    "        # Перевірка нічієї\n",
    "        if is_board_full(board):\n",
    "            print(\"Нічия!\")\n",
    "            break\n",
    "\n",
    "        # Хід користувача\n",
    "        print(\"Ваш хід:\")\n",
    "        user_row, user_col = user_move(board)\n",
    "        board[user_row][user_col] = 'O'\n",
    "        display_board(board)\n",
    "\n",
    "        # Перевірка виграшу користувача\n",
    "        if check_win(board, 'O'):\n",
    "            print(\"Ви виграли!\")\n",
    "            break\n",
    "\n",
    "if __name__ == \"__main__\":\n",
    "    main()"
   ]
  },
  {
   "cell_type": "markdown",
   "id": "52377fbd-4467-43d8-bd8f-3dd6fd1bb6b6",
   "metadata": {},
   "source": [
    "## References"
   ]
  },
  {
   "cell_type": "markdown",
   "id": "862e902d-2c07-4056-a020-7f155a699c76",
   "metadata": {},
   "source": [
    "1.https://github.com/Ilinsonn/Sokhin_Dmytro - посилання на GitHub-репозиторій"
   ]
  }
 ],
 "metadata": {
  "kernelspec": {
   "display_name": "Python 3 (ipykernel)",
   "language": "python",
   "name": "python3"
  },
  "language_info": {
   "codemirror_mode": {
    "name": "ipython",
    "version": 3
   },
   "file_extension": ".py",
   "mimetype": "text/x-python",
   "name": "python",
   "nbconvert_exporter": "python",
   "pygments_lexer": "ipython3",
   "version": "3.11.0"
  }
 },
 "nbformat": 4,
 "nbformat_minor": 5
}
